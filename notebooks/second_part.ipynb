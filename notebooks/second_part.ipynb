{
 "cells": [
  {
   "cell_type": "markdown",
   "metadata": {},
   "source": [
    "# second part of spark activity "
   ]
  },
  {
   "cell_type": "code",
   "execution_count": 1,
   "metadata": {},
   "outputs": [],
   "source": [
    "import pyspark\n",
    "sc = pyspark.SparkContext('local[*]')"
   ]
  },
  {
   "cell_type": "markdown",
   "metadata": {},
   "source": [
    "read the data from the (ml-100k/u.data) file : "
   ]
  },
  {
   "cell_type": "code",
   "execution_count": 5,
   "metadata": {},
   "outputs": [
    {
     "name": "stdout",
     "output_type": "stream",
     "text": [
      "User ratings (user id, item id, rating, timestamp)['196', '242', '3', '881250949']\n"
     ]
    }
   ],
   "source": [
    "textFile = sc.textFile(\"../data/raw/Datasets/ml-100k/u.data\")\n",
    "#data Split\n",
    "rdd = textFile.map(lambda line: line.split(\"\\t\"))\n",
    "# explore user rating  \n",
    "print(\"User ratings (user id, item id, rating, timestamp)\"+format(rdd.first()))"
   ]
  },
  {
   "cell_type": "markdown",
   "metadata": {},
   "source": [
    "now i will convert the rating data into float and integer, and explore them again:"
   ]
  },
  {
   "cell_type": "code",
   "execution_count": 7,
   "metadata": {},
   "outputs": [
    {
     "name": "stdout",
     "output_type": "stream",
     "text": [
      "Numerical user ratings (user id, rating, item id):(196, 3.0, 242)\n"
     ]
    }
   ],
   "source": [
    "converted_rdd = rdd.map(lambda fields: (int(float(fields[0])), float(fields[2]), int(float(fields[1]))))\n",
    "# Print user rating after convert\n",
    "print(\"Numerical user ratings (user id, rating, item id):\" + format(converted_rdd.first())) "
   ]
  },
  {
   "cell_type": "markdown",
   "metadata": {},
   "source": [
    "create a pair RDD:"
   ]
  },
  {
   "cell_type": "code",
   "execution_count": 8,
   "metadata": {},
   "outputs": [
    {
     "name": "stdout",
     "output_type": "stream",
     "text": [
      "Pair RDD (user id, (rating, item id))(196, (3.0, 242))\n"
     ]
    }
   ],
   "source": [
    "paired_rdd = converted_rdd.map(lambda fields: (fields[0], (fields[1], fields[2])))\n",
    "\n",
    "print(\"Pair RDD (user id, (rating, item id))\" + format(paired_rdd.first()))"
   ]
  },
  {
   "cell_type": "markdown",
   "metadata": {},
   "source": [
    "\n",
    "sum of rating, and the number of rated movies for each user\n"
   ]
  },
  {
   "cell_type": "code",
   "execution_count": 9,
   "metadata": {},
   "outputs": [
    {
     "name": "stdout",
     "output_type": "stream",
     "text": [
      "Agregate user ratings and movies ((user id, (rating sum, number of movies)):[(1, (982.0, 272.0)), (2, (230.0, 62.0)), (3, (151.0, 54.0)), (4, (104.0, 24.0)), (5, (503.0, 175.0))]\n"
     ]
    }
   ],
   "source": [
    "aggregated_rdd = paired_rdd.aggregateByKey((0.0, 0.0),\\\n",
    "                               lambda acc, val: (val[0] + acc[0], acc[1] + 1),\\\n",
    "                               lambda acc1, acc2: (acc1[0]+acc2[0], acc1[1]+acc2[1]))\n",
    "\n",
    "print(\"Agregate user ratings and movies ((user id, (rating sum, number of movies)):\" \n",
    "      + format(aggregated_rdd.takeOrdered(5, lambda x: x[0])))"
   ]
  },
  {
   "cell_type": "markdown",
   "metadata": {},
   "source": [
    "\n",
    "average of ratings by movie for each user\n"
   ]
  },
  {
   "cell_type": "code",
   "execution_count": 10,
   "metadata": {},
   "outputs": [
    {
     "name": "stdout",
     "output_type": "stream",
     "text": [
      "average ratings of user((user id, rating sum/number of movies):[(1, 3.610294117647059), (2, 3.7096774193548385), (3, 2.7962962962962963), (4, 4.333333333333333), (5, 2.874285714285714)]\n"
     ]
    }
   ],
   "source": [
    "avg_rdd = aggregated_rdd.mapValues(lambda x:(x[0]/x[1]))\n",
    "\n",
    "print(\"average ratings of user((user id, rating sum/number of movies):\" \n",
    "      + format(avg_rdd.takeOrdered(5, lambda x: x[0])))\n"
   ]
  },
  {
   "cell_type": "markdown",
   "metadata": {},
   "source": [
    "the received rating of each movie"
   ]
  },
  {
   "cell_type": "code",
   "execution_count": 11,
   "metadata": {},
   "outputs": [
    {
     "name": "stdout",
     "output_type": "stream",
     "text": [
      "Movie number of ratings (movie id, ratings number):[(242, 117), (302, 297), (377, 13), (51, 81), (346, 126)]\n"
     ]
    }
   ],
   "source": [
    "movies_rating = paired_rdd.map(lambda x : (x[1][1], 1)).reduceByKey(lambda a,b: a+b)\n",
    "\n",
    "print(\"Movie number of ratings (movie id, ratings number):\" \n",
    "      + format(movies_rating.take(5)))"
   ]
  },
  {
   "cell_type": "markdown",
   "metadata": {},
   "source": [
    "number of movies which have a higher than average rating"
   ]
  },
  {
   "cell_type": "code",
   "execution_count": 12,
   "metadata": {},
   "outputs": [
    {
     "name": "stdout",
     "output_type": "stream",
     "text": [
      "High Rating Movies:[(1, 321), (2, 51), (3, 34), (4, 122), (5, 39)]\n"
     ]
    }
   ],
   "source": [
    "high_rating_movies = paired_rdd.map(lambda x : (x[1][1], x[1][0])).filter(lambda x : x[1] >= 4.0)\\\n",
    "           .map(lambda x : (x[0], 1)).reduceByKey(lambda a,b: a+b)\n",
    "\n",
    "print(\"High Rating Movies:\" \n",
    "      + format(high_rating_movies.takeOrdered(5, lambda x: x[0])))"
   ]
  },
  {
   "cell_type": "markdown",
   "metadata": {},
   "source": [
    "Top 5 the Last 5 rated movies"
   ]
  },
  {
   "cell_type": "code",
   "execution_count": 14,
   "metadata": {},
   "outputs": [
    {
     "name": "stdout",
     "output_type": "stream",
     "text": [
      "Top 5 Rated movies:[(50, 583), (258, 509), (100, 508), (181, 507), (294, 485)]\n"
     ]
    }
   ],
   "source": [
    "print(\"Top 5 Rated movies:\" \n",
    "      + format(movies_rating.takeOrdered(5, lambda x: -x[1])))"
   ]
  },
  {
   "cell_type": "code",
   "execution_count": 15,
   "metadata": {},
   "outputs": [
    {
     "name": "stdout",
     "output_type": "stream",
     "text": [
      "Last 5 Rated movies:[(1348, 1), (1320, 1), (1492, 1), (1364, 1), (1493, 1)]\n"
     ]
    }
   ],
   "source": [
    "print(\"Last 5 Rated movies:\" \n",
    "      + format(movies_rating.takeOrdered(5, lambda x: x[1])))"
   ]
  },
  {
   "cell_type": "markdown",
   "metadata": {},
   "source": [
    "Join the two movie_counts and high_rating_movies datasets using a leftOuterJoin"
   ]
  },
  {
   "cell_type": "code",
   "execution_count": 16,
   "metadata": {},
   "outputs": [],
   "source": [
    "def generate_ratio(x, y):\n",
    "    try:\n",
    "       return float(x)/float(y)\n",
    "    except:\n",
    "        return 0 #x or y are None"
   ]
  },
  {
   "cell_type": "code",
   "execution_count": 18,
   "metadata": {},
   "outputs": [
    {
     "name": "stdout",
     "output_type": "stream",
     "text": [
      "Join the two movie_counts and high_rating_movies datasets using a leftOuterJoin:[(242, (117, 89)), (302, (297, 239)), (377, (13, 1)), (51, (81, 45)), (346, (126, 77))]\n",
      "Movie with id = 314:[(314, (5, None))]\n",
      "Top higher rates movie (movie id, (high ratings number/ ratings number):[(1492, 1.0), (1189, 1.0), (1498, 1.0), (1500, 1.0), (814, 1.0), (711, 1.0), (1449, 1.0), (1125, 1.0), (1536, 1.0), (1396, 1.0)]\n"
     ]
    }
   ],
   "source": [
    "join_movies = movies_rating.leftOuterJoin(high_rating_movies)\n",
    "\n",
    "print(\"Join the two movie_counts and high_rating_movies datasets using a leftOuterJoin:\" \n",
    "     + format(join_movies.take(5)))\n",
    "\n",
    "print(\"Movie with id = 314:\" \n",
    "     + format(join_movies.filter(lambda x : x[0] == 314).collect()))\n",
    "\n",
    "print(\"Top higher rates movie (movie id, (high ratings number/ ratings number):\" \n",
    "     + format(join_movies.mapValues(lambda x : (generate_ratio(x[1], x[0])))\\\n",
    "           .takeOrdered(10, lambda x: -x[1])))"
   ]
  },
  {
   "cell_type": "code",
   "execution_count": null,
   "metadata": {},
   "outputs": [],
   "source": []
  }
 ],
 "metadata": {
  "kernelspec": {
   "display_name": "Python 3",
   "language": "python",
   "name": "python3"
  },
  "language_info": {
   "codemirror_mode": {
    "name": "ipython",
    "version": 3
   },
   "file_extension": ".py",
   "mimetype": "text/x-python",
   "name": "python",
   "nbconvert_exporter": "python",
   "pygments_lexer": "ipython3",
   "version": "3.7.3"
  }
 },
 "nbformat": 4,
 "nbformat_minor": 2
}
